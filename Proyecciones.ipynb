{
 "cells": [
  {
   "metadata": {},
   "cell_type": "markdown",
   "source": "# **Proyecciones de empresas a un mes**",
   "id": "3e452b1805347305"
  },
  {
   "cell_type": "code",
   "id": "initial_id",
   "metadata": {
    "collapsed": true,
    "ExecuteTime": {
     "end_time": "2025-10-03T00:21:37.314497Z",
     "start_time": "2025-10-03T00:21:31.965912Z"
    }
   },
   "source": [
    "# Importando librerías\n",
    "from main import *"
   ],
   "outputs": [],
   "execution_count": 1
  },
  {
   "metadata": {},
   "cell_type": "markdown",
   "source": [
    "## **Librerías y su propósito**\n",
    "\n",
    "1. **OpenBB**\n",
    "    - Sirve para obtener datos financieros en tiempo real, ya sean acciones, índices, ETFs y más.\n",
    "    - Aquí se uso para descargar los precios históricos del ticker correspondiente y del S&P 500, necesarios para calcular retornos, volatilidad, beta, etc.\n",
    "\n",
    "2. **Numpy**\n",
    "    - Numpy es una librería de cálculo numérico.\n",
    "        - Se usa para:\n",
    "            - Logaritmos y operaciones vectorizadas (np.log).\n",
    "            - Desviación estándar (std).\n",
    "            - Generar números aleatorios (np.random.normal) para simulaciones Monte Carlo.\n",
    "            - Cálculo de estadísticas como media, mediana y percentiles.\n",
    "\n",
    "3. **Statsmodels**\n",
    "    - Permite hacer análisis estadísticos avanzados, principalmente regresiones y tests estadísticos.\n",
    "    - Aquí se usa para calcular la **beta** mediante una **regresión lineal OLS**, que es la base del modelo CAPM para estimar el rendimiento esperado de la acción.\n",
    "\n",
    "---\n",
    "\n",
    "## **Matemáticas empleadas**\n",
    "\n",
    "1. **Retornos algorítmicos**\n",
    "    - Se calculan como:\n",
    "\n",
    "        $r_t = \\ln \\left( \\frac{P_t}{P_{t-1}} \\right)$\n",
    "\n",
    "        donde $P_t$ es el precio de cierre del día $t$.\n",
    "\n",
    "    - Esto convierte los precios en una serie aditiva y permite modelar el comportamiento como un **proceso estocástico**.\n",
    "\n",
    "2. **Volatilidad histórica**\n",
    "    - Desviación estándar de los retornos logarítmicos diarios:\n",
    "\n",
    "        $\\sigma_{diaria} = \\mathrm{std} \\left( r_t \\right)$\n",
    "\n",
    "    - Volatilidad anualizada:\n",
    "        $\\sigma_{anual} = \\sigma_{diaria} * \\sqrt{252}$\n",
    "\n",
    "        donde 252 ≈ número de días de trading en un año.\n",
    "\n",
    "3. **CAPM (Capital Asset Pricing Model)**\n",
    "    - Regresión lineal para estimar **beta**:\n",
    "\n",
    "        $r_{activo} = \\alpha + \\beta * r_{mercado} + \\epsilon$\n",
    "\n",
    "    - Rendimiento esperado según CAPM:\n",
    "\n",
    "        $\\mathbb{E}[R_{activo}] = R_f + \\beta \\left (\\mathbb{E}[R_m] - R_f \\right)$\n",
    "\n",
    "        donde $R_f$ es la tasa libre de riesgo y $\\mathbb{E}[R_m]$ el rendimiento esperado del mercado.\n",
    "\n",
    "4. **Simulación Monte Carlo (GBM)**\n",
    "    - Se usa un **Movimiento Browniano Geométrico (GBM por sus siglas en inglés)** para simular precios futuros:\n",
    "\n",
    "        $S_T = S_0 * \\exp \\left ((\\mu - \\frac{1}{2} \\sigma^2)T + \\sigma\\sqrt{T}Z \\right)$\n",
    "\n",
    "        - $S_0$ = Precio actual\n",
    "\n",
    "        - $\\mu$ = Rendimiento esperado\n",
    "\n",
    "        - $\\sigma$ = Volatilidad anual\n",
    "\n",
    "        - $T$ = Horizonte temporal\n",
    "\n",
    "        - $Z$ = Variable aleatoria normal\n",
    "\n",
    "5. **Estadísticas de la simulación**\n",
    "\n",
    "    - Media $\\mathbb{E}[S_T]$, mediana y percentiles (P5, P95) para dar intervalos de confianza del precio futuro\n",
    "    - Esto ayuda a visualizar la **distribución probable** de precios después de un mes de trading."
   ],
   "id": "c2d45cae90f9408b"
  },
  {
   "metadata": {
    "ExecuteTime": {
     "end_time": "2025-10-03T01:58:52.179466Z",
     "start_time": "2025-10-03T01:58:43.345168Z"
    }
   },
   "cell_type": "code",
   "source": "predict_price(\"ZM\")",
   "id": "8077bfaf500fad88",
   "outputs": [
    {
     "name": "stdout",
     "output_type": "stream",
     "text": [
      "------------------------\n",
      "Acción ZM\n",
      "Precio actual: 82.23999786376953\n",
      "------------------------\n",
      "-------------------------------------------\n",
      "Puntuación del Regressor:\n",
      "MAE promedio: 40.341996648082144\n",
      "RMSE promedio: 45.03859696679459\n",
      "-------------------------------------------\n",
      "Precio de monte carlo: 82.93226548720627\n",
      "Precio del modelo de Random Forest: 77.17703277682136\n"
     ]
    }
   ],
   "execution_count": 156
  }
 ],
 "metadata": {
  "kernelspec": {
   "display_name": "Python 3",
   "language": "python",
   "name": "python3"
  },
  "language_info": {
   "codemirror_mode": {
    "name": "ipython",
    "version": 2
   },
   "file_extension": ".py",
   "mimetype": "text/x-python",
   "name": "python",
   "nbconvert_exporter": "python",
   "pygments_lexer": "ipython2",
   "version": "2.7.6"
  }
 },
 "nbformat": 4,
 "nbformat_minor": 5
}
